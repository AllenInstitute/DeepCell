{
 "cells": [
  {
   "cell_type": "markdown",
   "metadata": {},
   "source": [
    "**This notebook demonstrates how to train and evaluate the classifier**\n",
    "\n",
    "To run:\n",
    "1. Create a virtual environment\n",
    "2. `pip install git+https://github.com/AllenInstitute/DeepCell.git`"
   ]
  },
  {
   "cell_type": "code",
   "execution_count": 1,
   "metadata": {},
   "outputs": [],
   "source": [
    "import sys\n",
    "\n",
    "sys.path.append('../../src/')"
   ]
  },
  {
   "cell_type": "code",
   "execution_count": 2,
   "metadata": {},
   "outputs": [],
   "source": [
    "from deepcell.cli.modules.create_dataset import CreateDataset\n",
    "from deepcell.cli.modules.train import TrainRunner\n",
    "from deepcell.cli.modules.inference import InferenceModule\n",
    "from deepcell.datasets.model_input import ModelInput\n",
    "from deepcell.data_splitter import DataSplitter\n",
    "from deepcell.plotting import plot_confusion_matrix, plot_pr_curve\n",
    "from pathlib import Path\n",
    "import pandas as pd\n",
    "from typing import List\n",
    "import matplotlib.pyplot as plt\n",
    "import json\n",
    "import torch\n",
    "import numpy as np\n",
    "import random"
   ]
  },
  {
   "cell_type": "code",
   "execution_count": 3,
   "metadata": {},
   "outputs": [],
   "source": [
    "plt.style.use('ggplot')\n",
    "plt.rcParams['figure.figsize'] = [10, 10]"
   ]
  },
  {
   "cell_type": "code",
   "execution_count": null,
   "metadata": {},
   "outputs": [],
   "source": [
    "OUTPUT_DIR = Path(input('Path to output files'))\n",
    "SEED = 1234"
   ]
  },
  {
   "cell_type": "code",
   "execution_count": 5,
   "metadata": {},
   "outputs": [],
   "source": [
    "def set_seed(seed=SEED):\n",
    "    torch.manual_seed(seed)\n",
    "    np.random.seed(seed)\n",
    "    random.seed()"
   ]
  },
  {
   "cell_type": "code",
   "execution_count": 6,
   "metadata": {},
   "outputs": [],
   "source": [
    "set_seed()"
   ]
  },
  {
   "cell_type": "markdown",
   "metadata": {},
   "source": [
    "# Train/test split"
   ]
  },
  {
   "cell_type": "markdown",
   "metadata": {},
   "source": [
    "Assign each observation a label and split into a train and test set"
   ]
  },
  {
   "cell_type": "code",
   "execution_count": 5,
   "metadata": {},
   "outputs": [],
   "source": [
    "def create_dataset(test_size: float = 0.3, vote_tallying_strategy: str = 'majority') -> None:\n",
    "    \"\"\"\n",
    "    1. Pulls the raw labels, \n",
    "    2. tallies votes for each ROI to get a single label\n",
    "    3. Creates train/test split using depth bin sampling strategy\n",
    "    4. Outputs json files needed for training/inference\n",
    "    \n",
    "    :param test_size: The fraction to reserve for the test set\n",
    "    :param vote_tallying_strategy: Vote tallying strategy for deciding on a label for each ROI\n",
    "    \"\"\"    \n",
    "    args = {\n",
    "        'labels_path': input('Path to raw labels'),\n",
    "        'artifact_dir': input('Path to directory containing max, correlation, and mask for each ROI in the dataset'),\n",
    "        'experiment_metadata': input('Path to json file containing metadata on each experiment (including depth)'),\n",
    "        'seed': SEED,\n",
    "        'test_size': test_size,\n",
    "        'output_dir': str(OUTPUT_DIR)\n",
    "    }\n",
    "    CreateDataset(args=[], input_data=args).run()"
   ]
  },
  {
   "cell_type": "code",
   "execution_count": null,
   "metadata": {},
   "outputs": [],
   "source": [
    "create_dataset()"
   ]
  },
  {
   "cell_type": "markdown",
   "metadata": {},
   "source": [
    "The above should have created 2 files in output_dir: \n",
    "1. train_rois.json\n",
    "2. test_rois.json\n",
    "\n",
    "This represents the train/test split. Each file contains several important variables for each ROI including paths to artifacts input to the classifier (mask, correlation projection, max projection), as well as the label chosen based on the vote tallying strategy."
   ]
  },
  {
   "cell_type": "code",
   "execution_count": 7,
   "metadata": {},
   "outputs": [],
   "source": [
    "with open(OUTPUT_DIR / 'train_rois.json') as f:\n",
    "    train = [ModelInput(**x) for x in json.load(f)]\n",
    "with open(OUTPUT_DIR / 'test_rois.json') as f:\n",
    "    test = [ModelInput(**x) for x in json.load(f)]"
   ]
  },
  {
   "cell_type": "code",
   "execution_count": 8,
   "metadata": {},
   "outputs": [
    {
     "name": "stdout",
     "output_type": "stream",
     "text": [
      "Train size 17458\n",
      "Test size 7101\n"
     ]
    }
   ],
   "source": [
    "print('Train size', len(train))\n",
    "print('Test size', len(test))"
   ]
  },
  {
   "cell_type": "markdown",
   "metadata": {},
   "source": [
    "# Train"
   ]
  },
  {
   "cell_type": "markdown",
   "metadata": {},
   "source": [
    "Use k-fold cross validation to to train k models"
   ]
  },
  {
   "cell_type": "code",
   "execution_count": 9,
   "metadata": {},
   "outputs": [],
   "source": [
    "K_FOLDS = 5"
   ]
  },
  {
   "cell_type": "code",
   "execution_count": 10,
   "metadata": {},
   "outputs": [],
   "source": [
    "def create_train_val_splits(train: List[ModelInput], k_folds: int = K_FOLDS) -> None:\n",
    "    \"\"\"\n",
    "    Splits the data into train/val test splits for k fold cross validation\n",
    "    \n",
    "    :param k_folds: the number of splits\n",
    "    :param train: the training set\n",
    "    \"\"\"\n",
    "    \n",
    "    for k, (train_idx, test_idx) in enumerate(\n",
    "            DataSplitter.get_cross_val_split_idxs(\n",
    "                model_inputs=train, seed=SEED,\n",
    "                n_splits=k_folds)):\n",
    "        with open(OUTPUT_DIR / f'train_{k}.json', 'w') as f:\n",
    "            f.write(json.dumps([train[i].to_dict() for i in train_idx], indent=2))\n",
    "        with open(OUTPUT_DIR / f'val_{k}.json', 'w') as f:\n",
    "            f.write(json.dumps([train[i].to_dict() for i in test_idx], indent=2))\n",
    "            "
   ]
  },
  {
   "cell_type": "code",
   "execution_count": 11,
   "metadata": {},
   "outputs": [],
   "source": [
    "create_train_val_splits(train=train)"
   ]
  },
  {
   "cell_type": "markdown",
   "metadata": {},
   "source": [
    "We should now have several files with the format\n",
    "\n",
    "- train_k.json\n",
    "- val_k.json\n",
    "\n",
    "for each fold"
   ]
  },
  {
   "cell_type": "code",
   "execution_count": 12,
   "metadata": {},
   "outputs": [],
   "source": [
    "def train():\n",
    "    for k in range(K_FOLDS):\n",
    "        args = {\n",
    "            'train_model_inputs_path': str(OUTPUT_DIR / f'train_{k}.json'),\n",
    "            'validation_model_inputs_path': str(OUTPUT_DIR / f'val_{k}.json'),\n",
    "            'fold': k,\n",
    "            'save_path': str(OUTPUT_DIR / 'model'),\n",
    "            'log_path': str(OUTPUT_DIR / 'train.log'),\n",
    "            'model_params': {\n",
    "                'model_architecture': 'vgg11_bn',\n",
    "                'truncate_to_layer': 22,\n",
    "                'freeze_to_layer': 8,\n",
    "                'use_pretrained_model': True\n",
    "            }\n",
    "        }\n",
    "        print(f'Training fold {k}')\n",
    "        \n",
    "        TrainRunner(args=[], input_data=args).run()"
   ]
  },
  {
   "cell_type": "code",
   "execution_count": null,
   "metadata": {},
   "outputs": [],
   "source": [
    "train()"
   ]
  },
  {
   "cell_type": "markdown",
   "metadata": {},
   "source": [
    "# Performance"
   ]
  },
  {
   "cell_type": "code",
   "execution_count": 9,
   "metadata": {},
   "outputs": [],
   "source": [
    "def get_predictions(mode: str):\n",
    "    \"\"\"\n",
    "    Computes predictions on validation/test set using trained models\n",
    "    Outputs a file \"cv_preds.csv\" in case of mode==\"CV\" or \"test_preds.csv\" in case of mode==\"test\" \n",
    "        in `OUTPUT_DIR` containing predictions on the validation/test set\n",
    "    \n",
    "    :param mode: Either \"CV\" for validation predictions or \"test\" for test set predictions\n",
    "    \"\"\"\n",
    "    if mode == 'CV':\n",
    "        model_inputs_paths = [str(OUTPUT_DIR / f'val_{k}.json') for k in range(K_FOLDS)]\n",
    "    else:\n",
    "        model_inputs_paths = [str(OUTPUT_DIR / 'test_rois.json')]\n",
    "    args = {\n",
    "        \"model_params\": {\n",
    "            \"use_pretrained_model\": True,\n",
    "            \"model_architecture\": \"vgg11_bn\",\n",
    "            \"truncate_to_layer\": 22\n",
    "        },\n",
    "        \"model_inputs_paths\": model_inputs_paths,\n",
    "        \"model_load_path\": str(OUTPUT_DIR / 'model'),\n",
    "        \"save_path\": str(OUTPUT_DIR),\n",
    "        \"mode\": mode\n",
    "    }\n",
    "    InferenceModule(args=[], input_data=args).run()"
   ]
  },
  {
   "cell_type": "code",
   "execution_count": null,
   "metadata": {},
   "outputs": [],
   "source": [
    "get_predictions(mode='CV')"
   ]
  },
  {
   "cell_type": "code",
   "execution_count": null,
   "metadata": {},
   "outputs": [],
   "source": [
    "get_predictions(mode='test')"
   ]
  },
  {
   "cell_type": "code",
   "execution_count": 26,
   "metadata": {},
   "outputs": [
    {
     "data": {
      "image/png": "[encoded data removed]",
      "text/plain": [
       "<Figure size 720x720 with 1 Axes>"
      ]
     },
     "metadata": {},
     "output_type": "display_data"
    }
   ],
   "source": [
    "plot_pr_curve(scores=pd.read_csv(OUTPUT_DIR / 'cv_preds.csv'))"
   ]
  },
  {
   "cell_type": "code",
   "execution_count": 7,
   "metadata": {},
   "outputs": [],
   "source": [
    "def plot_test_set_performance():\n",
    "    preds = pd.read_csv(OUTPUT_DIR / 'test_preds.csv')\n",
    "    preds['y_pred'] = preds['y_pred'].apply(lambda x: 'cell' if x else 'not cell')\n",
    "    \n",
    "    plot_confusion_matrix(\n",
    "        classifier_scores=preds,\n",
    "        label_col='y_true', pred_col='y_pred')"
   ]
  },
  {
   "cell_type": "code",
   "execution_count": 8,
   "metadata": {},
   "outputs": [
    {
     "data": {
      "image/png": "[encoded data removed]",
      "text/plain": [
       "<Figure size 1440x720 with 4 Axes>"
      ]
     },
     "metadata": {},
     "output_type": "display_data"
    }
   ],
   "source": [
    "plot_test_set_performance()"
   ]
  },
  {
   "cell_type": "code",
   "execution_count": null,
   "metadata": {},
   "outputs": [],
   "source": []
  }
 ],
 "metadata": {
  "kernelspec": {
   "display_name": "deepcell_new",
   "language": "python",
   "name": "deepcell_new"
  },
  "language_info": {
   "codemirror_mode": {
    "name": "ipython",
    "version": 3
   },
   "file_extension": ".py",
   "mimetype": "text/x-python",
   "name": "python",
   "nbconvert_exporter": "python",
   "pygments_lexer": "ipython3",
   "version": "3.8.13"
  }
 },
 "nbformat": 4,
 "nbformat_minor": 4
}
