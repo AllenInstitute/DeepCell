{
 "cells": [
  {
   "cell_type": "code",
   "execution_count": null,
   "outputs": [],
   "source": [
    "from deepcell.cli.modules.create_dataset import construct_dataset, \\\n",
    "    VoteTallyingStrategy\n",
    "from deepcell.datasets.channel import Channel\n",
    "from deepcell.datasets.model_input import ModelInput\n",
    "from deepcell.data_splitter import DataSplitter\n",
    "from deepcell.datasets.roi_dataset import RoiDataset\n",
    "from deepcell.models.classifier import Classifier\n",
    "from deepcell.inference import inference\n",
    "\n",
    "\n",
    "from tqdm import tqdm\n",
    "import json\n",
    "import torchvision\n",
    "from torchvision.models.vgg import VGG11_BN_Weights\n",
    "from torch.utils.data.dataloader import DataLoader"
   ],
   "metadata": {
    "collapsed": false
   },
   "id": "f76d19556756d4cf"
  },
  {
   "cell_type": "markdown",
   "source": [
    "# Fetch data"
   ],
   "metadata": {
    "collapsed": false
   },
   "id": "56c121839b6fa8d9"
  },
  {
   "cell_type": "code",
   "execution_count": null,
   "outputs": [],
   "source": [
    "!mkdir data_cell_classifier_102323\n",
    "\n",
    "# Copy learning mfish data\n",
    "!aws s3 sync s3://dev.deepcell.alleninstitute.org/learning-mfish/ data_cell_classifier_102323\n",
    "\n",
    "# copy SSF data\n",
    "!mkdir -p tmp\n",
    "\n",
    "!aws s3 cp s3://dev.deepcell.alleninstitute.org/input_data/2023-06-05_05:06:06-551773/train/0/0.tar.gz tmp\n",
    "!aws s3 cp s3://dev.deepcell.alleninstitute.org/input_data/2023-06-05_05:06:06-551773/train/1/1.tar.gz tmp\n",
    "!aws s3 cp s3://dev.deepcell.alleninstitute.org/input_data/2023-06-05_05:06:06-551773/train/2/2.tar.gz tmp\n",
    "!aws s3 cp s3://dev.deepcell.alleninstitute.org/input_data/2023-06-05_05:06:06-551773/train/3/3.tar.gz tmp\n",
    "!aws s3 cp s3://dev.deepcell.alleninstitute.org/input_data/2023-06-05_05:06:06-551773/train/4/4.tar.gz tmp\n",
    "            \n",
    "!tar -xzvf tmp/0.tar.gz -C data_cell_classifier_102323\n",
    "!tar -xzvf tmp/1.tar.gz -C data_cell_classifier_102323\n",
    "!tar -xzvf tmp/2.tar.gz -C data_cell_classifier_102323\n",
    "!tar -xzvf tmp/3.tar.gz -C data_cell_classifier_102323\n",
    "!tar -xzvf tmp/4.tar.gz -C data_cell_classifier_102323\n",
    "\n",
    "!rm -rf tmp\n",
    "\n",
    "# Copy data that was in the SSF test set\n",
    "!aws s3 sync s3://dev.deepcell.alleninstitute.org/102623_existing_test_data/ data_cell_classifier_102323"
   ],
   "metadata": {
    "collapsed": false
   },
   "id": "initial_id"
  },
  {
   "cell_type": "markdown",
   "source": [
    "# Fetch model weights"
   ],
   "metadata": {
    "collapsed": false
   },
   "id": "9ab2d9ba1fe91297"
  },
  {
   "cell_type": "code",
   "execution_count": null,
   "outputs": [],
   "source": [
    "# Copy SSF model weights\n",
    "!mkdir -p ssf_baseline_checkpoints\n",
    "\n",
    "!aws s3 cp s3://dev.deepcell.alleninstitute.org/deepcell-train-fold-0-1685968030/output/model.tar.gz .\n",
    "!tar -xzvf model.tar.gz -C ssf_baseline_checkpoints\n",
    "\n",
    "!aws s3 cp s3://dev.deepcell.alleninstitute.org/deepcell-train-fold-1-1685968593/output/model.tar.gz .\n",
    "!tar -xzvf model.tar.gz -C ssf_baseline_checkpoints\n",
    "\n",
    "!aws s3 cp s3://dev.deepcell.alleninstitute.org/deepcell-train-fold-2-1685968728/output/model.tar.gz .\n",
    "!tar -xzvf model.tar.gz -C ssf_baseline_checkpoints\n",
    "\n",
    "!aws s3 cp s3://dev.deepcell.alleninstitute.org/deepcell-train-fold-3-1685968867/output/model.tar.gz .\n",
    "!tar -xzvf model.tar.gz -C ssf_baseline_checkpoints\n",
    "\n",
    "!aws s3 cp s3://dev.deepcell.alleninstitute.org/deepcell-train-fold-4-1685969004/output/model.tar.gz .\n",
    "!tar -xzvf model.tar.gz -C ssf_baseline_checkpoints\n",
    "    \n",
    "!mv ssf_baseline_checkpoints/0/0_model.pt ssf_baseline_checkpoints\n",
    "!mv ssf_baseline_checkpoints/1/1_model.pt ssf_baseline_checkpoints\n",
    "!mv ssf_baseline_checkpoints/2/2_model.pt ssf_baseline_checkpoints\n",
    "!mv ssf_baseline_checkpoints/3/3_model.pt ssf_baseline_checkpoints\n",
    "!mv ssf_baseline_checkpoints/4/4_model.pt ssf_baseline_checkpoints"
   ],
   "metadata": {
    "collapsed": false
   },
   "id": "20bd42a777532ae0"
  },
  {
   "cell_type": "code",
   "execution_count": null,
   "outputs": [],
   "source": [
    "# copy Learning MFish model weights\n",
    "\n",
    "!mkdir -p learning_mfish_checkpoints\n",
    "\n",
    "!aws s3 cp s3://dev.deepcell.alleninstitute.org/deepcell-train-fold-0-1698767254/output/model.tar.gz   .\n",
    "!tar -xzvf model.tar.gz -C learning_mfish_checkpoints\n",
    "\n",
    "!aws s3 cp s3://dev.deepcell.alleninstitute.org/deepcell-train-fold-1-1698767276/output/model.tar.gz   .\n",
    "!tar -xzvf model.tar.gz -C learning_mfish_checkpoints\n",
    "\n",
    "!aws s3 cp s3://dev.deepcell.alleninstitute.org/deepcell-train-fold-2-1698767299/output/model.tar.gz    .\n",
    "!tar -xzvf model.tar.gz -C learning_mfish_checkpoints\n",
    "\n",
    "!aws s3 cp s3://dev.deepcell.alleninstitute.org/deepcell-train-fold-3-1698767322/output/model.tar.gz    .\n",
    "!tar -xzvf model.tar.gz -C learning_mfish_checkpoints\n",
    "\n",
    "!aws s3 cp s3://dev.deepcell.alleninstitute.org/deepcell-train-fold-4-1698767344/output/model.tar.gz    .\n",
    "!tar -xzvf model.tar.gz -C learning_mfish_checkpoints\n",
    "\n",
    "!mv learning_mfish_checkpoints/0/0_model.pt learning_mfish_checkpoints\n",
    "!mv learning_mfish_checkpoints/1/1_model.pt learning_mfish_checkpoints\n",
    "!mv learning_mfish_checkpoints/2/2_model.pt learning_mfish_checkpoints\n",
    "!mv learning_mfish_checkpoints/3/3_model.pt learning_mfish_checkpoints\n",
    "!mv learning_mfish_checkpoints/4/4_model.pt learning_mfish_checkpoints"
   ],
   "metadata": {
    "collapsed": false
   },
   "id": "317660c621e83e21"
  },
  {
   "cell_type": "markdown",
   "source": [
    "# Train model"
   ],
   "metadata": {
    "collapsed": false
   },
   "id": "678ede7ad5999bad"
  },
  {
   "cell_type": "code",
   "execution_count": null,
   "outputs": [],
   "source": [
    "# The labels are stored in the cell labeling app database cell-labeling-app-db-instance-1.cdxknown3r0n.us-west-2.rds.amazonaws.com . \n",
    "# This pulls from there using the `/get_all_labels` endpoint\n",
    "\n",
    "labels = construct_dataset(\n",
    "    cell_labeling_app_host='ec2-34-211-120-165.us-west-2.compute.amazonaws.com',\n",
    "    vote_tallying_strategy=VoteTallyingStrategy.MAJORITY\n",
    ")"
   ],
   "metadata": {
    "collapsed": false
   },
   "id": "d54dd2911649cbcd"
  },
  {
   "cell_type": "code",
   "execution_count": null,
   "outputs": [],
   "source": [
    "def _get_model_inputs():\n",
    "    model_inputs = []\n",
    "    exp_ids = labels['experiment_id'].unique()\n",
    "    for exp_id in tqdm(exp_ids):\n",
    "        exp_labels = labels[labels['experiment_id'] == exp_id]\n",
    "        \n",
    "        for row in exp_labels.itertuples(index=False):\n",
    "            model_input = ModelInput(\n",
    "                experiment_id=row.experiment_id,\n",
    "                project_name=row.job_name,\n",
    "                roi_id=row.roi_id,\n",
    "                channel_path_map={\n",
    "                    Channel.CORRELATION_PROJECTION: f'/home/ec2-user/SageMaker/data_cell_classifier_102323/correlation_{exp_id}_{row.roi_id}.png',\n",
    "                    Channel.MAX_PROJECTION: f'/home/ec2-user/SageMaker/data_cell_classifier_102323/max_{exp_id}_{row.roi_id}.png',\n",
    "                    Channel.MASK: f'/home/ec2-user/SageMaker/data_cell_classifier_102323/mask_{exp_id}_{row.roi_id}.png',\n",
    "                },\n",
    "                channel_order=[Channel.CORRELATION_PROJECTION, Channel.MAX_PROJECTION, Channel.MASK],\n",
    "                label=row.label\n",
    "            )\n",
    "            model_inputs.append(model_input)\n",
    "    return model_inputs\n",
    "model_inputs = _get_model_inputs()"
   ],
   "metadata": {
    "collapsed": false
   },
   "id": "de66e9d3083f33ed"
  },
  {
   "cell_type": "markdown",
   "source": [
    "## Exclude ROIs in motion border"
   ],
   "metadata": {
    "collapsed": false
   },
   "id": "6f026e8c8b7b4dae"
  },
  {
   "cell_type": "code",
   "execution_count": null,
   "outputs": [],
   "source": [
    "# Due to a bug, the motion border info was not correctly calculated.\n",
    "# It was recalculated outside this notebook\n",
    "# Incorporate this info by using the 2 files roi_meta.json (SSF) and roi_meta_learningmfish.json (lmf)\n",
    "\n",
    "!aws s3 cp s3://dev.deepcell.alleninstitute.org/roi_meta.json .\n",
    "!aws s3 cp s3://dev.deepcell.alleninstitute.org/roi_meta_learningmfish.json .\n",
    "\n",
    "\n",
    "def _add_motion_border_info():\n",
    "    with open('roi_meta.json') as f:\n",
    "        meta_ssf = json.load(f)\n",
    "    with open('roi_meta_learningmfish.json') as f:\n",
    "        meta_lmf = json.load(f)\n",
    "    \n",
    "    for m in model_inputs:\n",
    "        if m.project_name == 'SSF':\n",
    "            m.overlaps_motion_border = meta_ssf[f'{m.experiment_id}_{m.roi_id}']['overlaps_motion_border']\n",
    "        else:\n",
    "            m.overlaps_motion_border = meta_lmf[f'{m.experiment_id}_{m.roi_id}']['overlaps_motion_border']\n",
    "_add_motion_border_info()"
   ],
   "metadata": {
    "collapsed": false
   },
   "id": "82be1a93c6077c41"
  },
  {
   "cell_type": "code",
   "execution_count": null,
   "outputs": [],
   "source": [
    "len(model_inputs)"
   ],
   "metadata": {
    "collapsed": false
   },
   "id": "526685cc5d8fa54d"
  },
  {
   "cell_type": "code",
   "execution_count": null,
   "outputs": [],
   "source": [
    "model_inputs = [x for x in model_inputs if not x.overlaps_motion_border]\n",
    "len(model_inputs)"
   ],
   "metadata": {
    "collapsed": false
   },
   "id": "aeef9ccd1efe1e9d"
  },
  {
   "cell_type": "markdown",
   "source": [
    "## Train/test split"
   ],
   "metadata": {
    "collapsed": false
   },
   "id": "69b80d85c9fc8b6"
  },
  {
   "cell_type": "code",
   "execution_count": null,
   "outputs": [],
   "source": [
    "splitter = DataSplitter(\n",
    "    model_inputs=model_inputs,\n",
    "    train_transform=RoiDataset.get_default_transforms(\n",
    "        is_train=True, \n",
    "        crop_size=(128, 128),\n",
    "        means=VGG11_BN_Weights.DEFAULT.transforms().mean, \n",
    "        stds=VGG11_BN_Weights.DEFAULT.transforms().std\n",
    "    ),\n",
    "    test_transform=RoiDataset.get_default_transforms(\n",
    "        is_train=False,\n",
    "        crop_size=(128, 128),\n",
    "        means=VGG11_BN_Weights.DEFAULT.transforms().mean, \n",
    "        stds=VGG11_BN_Weights.DEFAULT.transforms().std\n",
    "    ),\n",
    "    seed=1234\n",
    ")"
   ],
   "metadata": {
    "collapsed": false
   },
   "id": "daf47273ca320d98"
  },
  {
   "cell_type": "code",
   "execution_count": null,
   "outputs": [],
   "source": [
    "# Fetch a file exp_meta.json which has metadata such as experiment depth,\n",
    "# used for train/test split\n",
    "\n",
    "!aws s3 cp s3://dev.deepcell.alleninstitute.org/exp_meta.json .\n",
    "\n",
    "def _get_train_test_split():\n",
    "    with open('exp_meta.json') as f:\n",
    "        exp_meta = json.load(f)\n",
    "    lmf_inputs = [x for x in model_inputs if x.project_name == 'LearningMFish']\n",
    "    lmf_experiments = set([int(x.experiment_id) for x in lmf_inputs])\n",
    "    exp_meta = [x for x in exp_meta if x['experiment_id'] in lmf_experiments]\n",
    "    \n",
    "    # only include learning mfish data in test\n",
    "    train, test = splitter.get_train_test_split(\n",
    "        test_size=0.3,\n",
    "        full_dataset=lmf_inputs,\n",
    "        exp_metas=exp_meta,\n",
    "        n_depth_bins=4\n",
    "    )\n",
    "    \n",
    "    return train, test\n",
    "\n",
    "train, test = _get_train_test_split()"
   ],
   "metadata": {
    "collapsed": false
   },
   "id": "217461283de8d819"
  },
  {
   "cell_type": "code",
   "execution_count": null,
   "outputs": [],
   "source": [
    "len(train), len(test)"
   ],
   "metadata": {
    "collapsed": false
   },
   "id": "ae9de643265b3608"
  },
  {
   "cell_type": "code",
   "execution_count": null,
   "outputs": [],
   "source": [
    "with open('train_model_inputs_103023_only_learning_mfish.json', 'w') as f:\n",
    "    f.write(json.dumps([x.to_dict() for x in train.model_inputs if x.project_name == 'LearningMFish'], indent=2))"
   ],
   "metadata": {
    "collapsed": false
   },
   "id": "97c03fc668c209c3"
  },
  {
   "cell_type": "markdown",
   "source": [
    "Train model either using train.ipynb or using `python -m deepcell.cli.modules.cloud.train --input_json <input_json>`\n",
    "\n",
    "An example input json for the latter is at `s3://dev.deepcell.alleninstitute.org/cloud_train.json`\n",
    "\n",
    "The rest of the notebook will assume that we've trained the model and are using the weights defined above"
   ],
   "metadata": {
    "collapsed": false
   },
   "id": "5fc3c9217257698c"
  },
  {
   "cell_type": "markdown",
   "source": [
    "# Baseline performance"
   ],
   "metadata": {
    "collapsed": false
   },
   "id": "5b648394e700b1ba"
  },
  {
   "cell_type": "code",
   "execution_count": null,
   "outputs": [],
   "source": [
    "def _get_baseline_perf(which='test'):\n",
    "    model = getattr(\n",
    "        torchvision.models, 'vgg11_bn')(\n",
    "            pretrained=True,\n",
    "            progress=False)\n",
    "    \n",
    "    model = Classifier(\n",
    "        model=model,\n",
    "        truncate_to_layer=22,\n",
    "        classifier_cfg=[]\n",
    "    )\n",
    "    mi = test.model_inputs if which == 'test' else \\\n",
    "        [x for x in train.model_inputs if x.project_name == 'LearningMFish']\n",
    "    ds = RoiDataset(\n",
    "        model_inputs=mi,\n",
    "        transform=RoiDataset.get_default_transforms(\n",
    "            is_train=False, \n",
    "            crop_size=(128, 128),\n",
    "            means=VGG11_BN_Weights.DEFAULT.transforms().mean, \n",
    "            stds=VGG11_BN_Weights.DEFAULT.transforms().std\n",
    "        )\n",
    "    )\n",
    "    test_dataloader = DataLoader(\n",
    "        dataset=ds, \n",
    "        shuffle=False,\n",
    "        batch_size=64\n",
    "    )\n",
    "    metrics, res = inference(\n",
    "        model=model,\n",
    "        test_loader=test_dataloader,\n",
    "        threshold=0.5,\n",
    "        has_labels=True,\n",
    "        checkpoint_path='ssf_baseline_checkpoints'\n",
    "    )\n",
    "    return metrics, res"
   ],
   "metadata": {
    "collapsed": false
   },
   "id": "941cc42a1d61f167"
  },
  {
   "cell_type": "code",
   "execution_count": null,
   "outputs": [],
   "source": [
    "baseline_metrics, baseline_preds = _get_baseline_perf(which='test')"
   ],
   "metadata": {
    "collapsed": false
   },
   "id": "50dd6e190930d17e"
  },
  {
   "cell_type": "code",
   "execution_count": null,
   "outputs": [],
   "source": [
    "def calc_accuracy_metrics(metrics):\n",
    "    p = metrics.TP / (metrics.TP + metrics.FP)\n",
    "    r = metrics.TP / (metrics.TP + metrics.FN)\n",
    "    f1 = 2 * p * r / (p + r)\n",
    "    return p, r, f1"
   ],
   "metadata": {
    "collapsed": false
   },
   "id": "921e9923bc3f8012"
  },
  {
   "cell_type": "code",
   "execution_count": null,
   "outputs": [],
   "source": [
    "calc_accuracy_metrics(metrics=baseline_metrics)"
   ],
   "metadata": {
    "collapsed": false
   },
   "id": "ddcf5a53fda6883e"
  },
  {
   "cell_type": "markdown",
   "source": [
    "# Trained model performance"
   ],
   "metadata": {
    "collapsed": false
   },
   "id": "7062b2f02638d866"
  },
  {
   "cell_type": "code",
   "execution_count": null,
   "outputs": [],
   "source": [
    "def _calc_test_set_perf(model_inputs=test.model_inputs, checkpoints_path='learning_mfish_checkpoints'):\n",
    "    model = getattr(\n",
    "        torchvision.models, 'vgg11_bn')(\n",
    "            pretrained=True,\n",
    "            progress=False)\n",
    "    \n",
    "    model = Classifier(\n",
    "        model=model,\n",
    "        truncate_to_layer=22,\n",
    "        classifier_cfg=[]\n",
    "    )\n",
    "    ds = RoiDataset(\n",
    "        model_inputs=model_inputs,\n",
    "        transform=RoiDataset.get_default_transforms(\n",
    "            is_train=False, \n",
    "            crop_size=(128, 128),\n",
    "            means=VGG11_BN_Weights.DEFAULT.transforms().mean, \n",
    "            stds=VGG11_BN_Weights.DEFAULT.transforms().std\n",
    "        )\n",
    "    )\n",
    "    test_dataloader = DataLoader(\n",
    "        dataset=ds, \n",
    "        shuffle=False,\n",
    "        batch_size=64\n",
    "    )\n",
    "    metrics, res = inference(\n",
    "        model=model,\n",
    "        test_loader=test_dataloader,\n",
    "        threshold=0.5,\n",
    "        has_labels=True,\n",
    "        checkpoint_path=checkpoints_path\n",
    "    )\n",
    "    return metrics, res"
   ],
   "metadata": {
    "collapsed": false
   },
   "id": "a65c568f8bcc3631"
  },
  {
   "cell_type": "code",
   "execution_count": null,
   "outputs": [],
   "source": [
    "test_metrics, test_preds = _calc_test_set_perf()"
   ],
   "metadata": {
    "collapsed": false
   },
   "id": "77dcb6078a2ec960"
  },
  {
   "cell_type": "code",
   "execution_count": null,
   "outputs": [],
   "source": [
    "len(test)"
   ],
   "metadata": {
    "collapsed": false
   },
   "id": "5fa400faf482611b"
  },
  {
   "cell_type": "code",
   "execution_count": null,
   "outputs": [],
   "source": [
    "len([x for x in test.model_inputs if x.label == 'cell'])"
   ],
   "metadata": {
    "collapsed": false
   },
   "id": "a25e7f52e0911594"
  },
  {
   "cell_type": "code",
   "execution_count": null,
   "outputs": [],
   "source": [
    "calc_accuracy_metrics(metrics=test_metrics)"
   ],
   "metadata": {
    "collapsed": false
   },
   "id": "aeac41c952a1f938"
  }
 ],
 "metadata": {
  "kernelspec": {
   "display_name": "Python 3",
   "language": "python",
   "name": "python3"
  },
  "language_info": {
   "codemirror_mode": {
    "name": "ipython",
    "version": 2
   },
   "file_extension": ".py",
   "mimetype": "text/x-python",
   "name": "python",
   "nbconvert_exporter": "python",
   "pygments_lexer": "ipython2",
   "version": "2.7.6"
  }
 },
 "nbformat": 4,
 "nbformat_minor": 5
}
